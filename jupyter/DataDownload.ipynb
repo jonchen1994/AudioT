{
 "cells": [
  {
   "cell_type": "code",
   "execution_count": 7,
   "metadata": {},
   "outputs": [],
   "source": [
    "import boto3\n",
    "import pandas as pd\n",
    "import os \n",
    "from sagemaker import get_execution_role\n",
    "import numpy as np\n",
    "import io"
   ]
  },
  {
   "cell_type": "code",
   "execution_count": 15,
   "metadata": {},
   "outputs": [],
   "source": [
    "bucket_name = 'trf-house-flock-data'\n",
    "dir_name = \"flock4006-2020-12\"\n",
    "s3_conn = boto3.client('s3')\n",
    "s3_contents = s3_conn.list_objects(Bucket = bucket_name, Prefix=dir_name)['Contents']\n",
    "root = os.path.abspath('/root/AudioT/data')"
   ]
  },
  {
   "cell_type": "code",
   "execution_count": 9,
   "metadata": {},
   "outputs": [
    {
     "name": "stdout",
     "output_type": "stream",
     "text": [
      "Total Files: 9\n"
     ]
    }
   ],
   "source": [
    "print('Total Files: {}'.format(len(s3_contents)))"
   ]
  },
  {
   "cell_type": "code",
   "execution_count": 10,
   "metadata": {},
   "outputs": [
    {
     "name": "stdout",
     "output_type": "stream",
     "text": [
      "[{'Key': 'flock4006-2020-12/', 'LastModified': datetime.datetime(2021, 7, 20, 22, 5, 49, tzinfo=tzlocal()), 'ETag': '\"d41d8cd98f00b204e9800998ecf8427e\"', 'Size': 0, 'StorageClass': 'STANDARD'}, {'Key': 'flock4006-2020-12/trf0_2020-12D.xlsx', 'LastModified': datetime.datetime(2021, 7, 20, 22, 6, 22, tzinfo=tzlocal()), 'ETag': '\"a84ce25094ad2c2119cfeeadf954671c\"', 'Size': 72041, 'StorageClass': 'STANDARD'}, {'Key': 'flock4006-2020-12/trf0_2020-12H.xlsx', 'LastModified': datetime.datetime(2021, 7, 20, 22, 6, 23, tzinfo=tzlocal()), 'ETag': '\"53206242c67bd54da3e476ff9caf229d\"', 'Size': 1170460, 'StorageClass': 'STANDARD'}, {'Key': 'flock4006-2020-12/trf1_2020-12D.xlsx', 'LastModified': datetime.datetime(2021, 7, 20, 22, 6, 23, tzinfo=tzlocal()), 'ETag': '\"af0b9160541bfd7e3200a1618cf48b53\"', 'Size': 72112, 'StorageClass': 'STANDARD'}, {'Key': 'flock4006-2020-12/trf1_2020-12H.xlsx', 'LastModified': datetime.datetime(2021, 7, 20, 22, 6, 24, tzinfo=tzlocal()), 'ETag': '\"d875163899828609f269e83c19d6a25d\"', 'Size': 1170947, 'StorageClass': 'STANDARD'}, {'Key': 'flock4006-2020-12/trf2_2020-12D.xlsx', 'LastModified': datetime.datetime(2021, 7, 20, 22, 6, 24, tzinfo=tzlocal()), 'ETag': '\"456bf2980e69681ca8a14e01e39baa51\"', 'Size': 72096, 'StorageClass': 'STANDARD'}, {'Key': 'flock4006-2020-12/trf2_2020-12H.xlsx', 'LastModified': datetime.datetime(2021, 7, 20, 22, 6, 25, tzinfo=tzlocal()), 'ETag': '\"6acbd1d00cad44102c6ce8050090d396\"', 'Size': 1170806, 'StorageClass': 'STANDARD'}, {'Key': 'flock4006-2020-12/trf3_2020-12D.xlsx', 'LastModified': datetime.datetime(2021, 7, 20, 22, 6, 25, tzinfo=tzlocal()), 'ETag': '\"fbf4873a6d05ccdd69186a20c0133d95\"', 'Size': 72051, 'StorageClass': 'STANDARD'}, {'Key': 'flock4006-2020-12/trf3_2020-12H.xlsx', 'LastModified': datetime.datetime(2021, 7, 20, 22, 6, 26, tzinfo=tzlocal()), 'ETag': '\"8c9cd1ef0140e90368dacb049049129c\"', 'Size': 1172205, 'StorageClass': 'STANDARD'}]\n"
     ]
    }
   ],
   "source": [
    "print(s3_contents)"
   ]
  },
  {
   "cell_type": "code",
   "execution_count": 11,
   "metadata": {},
   "outputs": [],
   "source": [
    "bucket_name = 'trf-house-flock-data'\n",
    "s3 = boto3.client('s3')\n",
    "obj = s3.get_object(Bucket=bucket_name, Key='flock4006-2020-12/trf0_2020-12D.xlsx')\n",
    "df = pd.read_excel(io.BytesIO(obj['Body'].read()))"
   ]
  },
  {
   "cell_type": "code",
   "execution_count": 17,
   "metadata": {},
   "outputs": [],
   "source": [
    "idx_file = 1\n",
    "file_src = s3_contents[2]['Key']\n",
    "\n",
    "file_dst =  os.path.join(folder,os.path.basename(s3_contents[idx_file]['Key']))\n",
    "s3_conn.download_file(bucket_name,file_src , file_dst)"
   ]
  },
  {
   "cell_type": "code",
   "execution_count": 4,
   "metadata": {},
   "outputs": [],
   "source": [
    "test = s3_conn.list_objects(Bucket = bucket_name, Prefix=dir_name)['Contents']"
   ]
  },
  {
   "cell_type": "code",
   "execution_count": 10,
   "metadata": {},
   "outputs": [
    {
     "name": "stdout",
     "output_type": "stream",
     "text": [
      "1 flock4006-2020-12/trf0_2020-12D.xlsx\n",
      "2 flock4006-2020-12/trf0_2020-12H.xlsx\n",
      "3 flock4006-2020-12/trf1_2020-12D.xlsx\n",
      "4 flock4006-2020-12/trf1_2020-12H.xlsx\n",
      "5 flock4006-2020-12/trf2_2020-12D.xlsx\n",
      "6 flock4006-2020-12/trf2_2020-12H.xlsx\n",
      "7 flock4006-2020-12/trf3_2020-12D.xlsx\n",
      "8 flock4006-2020-12/trf3_2020-12H.xlsx\n"
     ]
    }
   ],
   "source": []
  },
  {
   "cell_type": "code",
   "execution_count": 33,
   "metadata": {},
   "outputs": [
    {
     "data": {
      "text/plain": [
       "'flock4001-2020-07'"
      ]
     },
     "execution_count": 33,
     "metadata": {},
     "output_type": "execute_result"
    }
   ],
   "source": [
    "test[1]['Key'].split('/')[0]"
   ]
  },
  {
   "cell_type": "code",
   "execution_count": 36,
   "metadata": {},
   "outputs": [
    {
     "ename": "TypeError",
     "evalue": "download_file() missing 1 required positional argument: 'Filename'",
     "output_type": "error",
     "traceback": [
      "\u001b[0;31m---------------------------------------------------------------------------\u001b[0m",
      "\u001b[0;31mTypeError\u001b[0m                                 Traceback (most recent call last)",
      "\u001b[0;32m<ipython-input-36-3d704e10a8da>\u001b[0m in \u001b[0;36m<module>\u001b[0;34m\u001b[0m\n\u001b[1;32m      3\u001b[0m \u001b[0mfolder\u001b[0m \u001b[0;34m=\u001b[0m \u001b[0mos\u001b[0m\u001b[0;34m.\u001b[0m\u001b[0mpath\u001b[0m\u001b[0;34m.\u001b[0m\u001b[0mabspath\u001b[0m\u001b[0;34m(\u001b[0m\u001b[0;34m'/root/AudioT/data'\u001b[0m\u001b[0;34m)\u001b[0m\u001b[0;34m\u001b[0m\u001b[0;34m\u001b[0m\u001b[0m\n\u001b[1;32m      4\u001b[0m \u001b[0mfile_dst\u001b[0m \u001b[0;34m=\u001b[0m  \u001b[0mos\u001b[0m\u001b[0;34m.\u001b[0m\u001b[0mpath\u001b[0m\u001b[0;34m.\u001b[0m\u001b[0mjoin\u001b[0m\u001b[0;34m(\u001b[0m\u001b[0mfolder\u001b[0m\u001b[0;34m,\u001b[0m\u001b[0mos\u001b[0m\u001b[0;34m.\u001b[0m\u001b[0mpath\u001b[0m\u001b[0;34m.\u001b[0m\u001b[0mbasename\u001b[0m\u001b[0;34m(\u001b[0m\u001b[0mfile_src\u001b[0m\u001b[0;34m)\u001b[0m\u001b[0;34m)\u001b[0m\u001b[0;34m\u001b[0m\u001b[0;34m\u001b[0m\u001b[0m\n\u001b[0;32m----> 5\u001b[0;31m \u001b[0ms3_conn\u001b[0m\u001b[0;34m.\u001b[0m\u001b[0mdownload_file\u001b[0m\u001b[0;34m(\u001b[0m\u001b[0mfile_src\u001b[0m \u001b[0;34m,\u001b[0m \u001b[0mfile_dst\u001b[0m\u001b[0;34m)\u001b[0m\u001b[0;34m\u001b[0m\u001b[0;34m\u001b[0m\u001b[0m\n\u001b[0m",
      "\u001b[0;31mTypeError\u001b[0m: download_file() missing 1 required positional argument: 'Filename'"
     ]
    }
   ],
   "source": [
    "idx_file = 1\n",
    "file_src = test[1]['Key'].split('/')[0]\n",
    "folder = os.path.abspath('/root/AudioT/data')\n",
    "file_dst =  os.path.join(folder,os.path.basename(file_src))\n",
    "s3_conn.download_file(file_src , file_dst)"
   ]
  },
  {
   "cell_type": "code",
   "execution_count": 24,
   "metadata": {},
   "outputs": [],
   "source": [
    "x = [file_src, file_src]"
   ]
  },
  {
   "cell_type": "code",
   "execution_count": 27,
   "metadata": {},
   "outputs": [
    {
     "data": {
      "text/plain": [
       "True"
      ]
     },
     "execution_count": 27,
     "metadata": {},
     "output_type": "execute_result"
    }
   ],
   "source": [
    "type(x) == list"
   ]
  },
  {
   "cell_type": "code",
   "execution_count": 20,
   "metadata": {},
   "outputs": [
    {
     "name": "stdout",
     "output_type": "stream",
     "text": [
      "['flock4008-2021-05', 'flock4001-2020-07', 'flock4006-2020-12', 'flock4009-2021-07', 'flock4007-2021-02', 'flock4002-2020-10']\n",
      "1 flock4008-2021-05/Flock #8.xlsx\n",
      "2 flock4008-2021-05/flock #8 mortality map.xlsx\n",
      "1 flock4001-2020-07/trf0_2020-07D.xlsx\n",
      "2 flock4001-2020-07/trf0_2020-07H.xlsx\n",
      "3 flock4001-2020-07/trf1_2020-07D.xlsx\n",
      "4 flock4001-2020-07/trf1_2020-07H.xlsx\n",
      "5 flock4001-2020-07/trf2_2020-07D.xlsx\n",
      "6 flock4001-2020-07/trf2_2020-07H.xlsx\n",
      "7 flock4001-2020-07/trf3_2020-07D.xlsx\n",
      "8 flock4001-2020-07/trf3_2020-07H.xlsx\n",
      "1 flock4006-2020-12/trf0_2020-12D.xlsx\n",
      "2 flock4006-2020-12/trf0_2020-12H.xlsx\n",
      "3 flock4006-2020-12/trf1_2020-12D.xlsx\n",
      "4 flock4006-2020-12/trf1_2020-12H.xlsx\n",
      "5 flock4006-2020-12/trf2_2020-12D.xlsx\n",
      "6 flock4006-2020-12/trf2_2020-12H.xlsx\n",
      "7 flock4006-2020-12/trf3_2020-12D.xlsx\n",
      "8 flock4006-2020-12/trf3_2020-12H.xlsx\n",
      "1 flock4009-2021-07/Flock #9.xlsx\n",
      "2 flock4009-2021-07/flock #9 mortality map.xlsx\n",
      "1 flock4007-2021-02/trf0_2021-02D.xlsx\n",
      "2 flock4007-2021-02/trf0_2021-02H.xlsx\n",
      "3 flock4007-2021-02/trf1_2021-02D.xlsx\n",
      "4 flock4007-2021-02/trf1_2021-02H.xlsx\n",
      "5 flock4007-2021-02/trf2_2021-02D.xlsx\n",
      "6 flock4007-2021-02/trf2_2021-02H.xlsx\n",
      "7 flock4007-2021-02/trf3_2021-02D.xlsx\n",
      "8 flock4007-2021-02/trf3_2021-02H.xlsx\n",
      "1 flock4002-2020-10/trf0_2020-10D.xlsx\n",
      "2 flock4002-2020-10/trf0_2020-10H.xlsx\n",
      "3 flock4002-2020-10/trf1_2020-10D.xlsx\n",
      "4 flock4002-2020-10/trf1_2020-10H.xlsx\n",
      "5 flock4002-2020-10/trf2_2020-10D.xlsx\n",
      "6 flock4002-2020-10/trf2_2020-10H.xlsx\n",
      "7 flock4002-2020-10/trf3_2020-10D.xlsx\n",
      "8 flock4002-2020-10/trf3_2020-10H.xlsx\n"
     ]
    }
   ],
   "source": [
    "dwnldBucket(bucket_name, root)"
   ]
  },
  {
   "cell_type": "code",
   "execution_count": 12,
   "metadata": {},
   "outputs": [],
   "source": [
    "def createDirs(root, dirList):\n",
    "    finDirs = []\n",
    "    for items in dirList:\n",
    "        path = os.path.join(root, items)\n",
    "        if not os.path.exists(path):\n",
    "            os.mkdir(path)\n",
    "        finDirs.append(path)\n",
    "    return finDirs"
   ]
  },
  {
   "cell_type": "code",
   "execution_count": 19,
   "metadata": {},
   "outputs": [],
   "source": [
    "def dwnldBucket(bucket, root, dir_name = 'All'):\n",
    "    if dir_name == 'All':\n",
    "        obj = s3_conn.list_objects(Bucket = bucket)['Contents']\n",
    "        dlist = list(set([x['Key'].split('/')[0] for x in obj]))\n",
    "    elif type(dir_name) != list:\n",
    "        dlist = [dir_name]\n",
    "    print(dlist)\n",
    "    createDirs(root, dlist)\n",
    "    for direct in dlist:\n",
    "        files = s3_conn.list_objects(Bucket = bucket, Prefix=direct)['Contents']\n",
    "        for ii in range(len(files)):\n",
    "            if ii > 0:\n",
    "                file_src = files[ii]['Key']\n",
    "                print(ii, file_src)\n",
    "                folder = os.path.abspath('/root/AudioT/data')\n",
    "                file_dst =  os.path.join(root,file_src)\n",
    "                s3_conn.download_file(bucket_name,file_src , file_dst)"
   ]
  },
  {
   "cell_type": "code",
   "execution_count": null,
   "metadata": {},
   "outputs": [],
   "source": []
  }
 ],
 "metadata": {
  "instance_type": "ml.t3.medium",
  "kernelspec": {
   "display_name": "Python 3 (Data Science)",
   "language": "python",
   "name": "python3__SAGEMAKER_INTERNAL__arn:aws:sagemaker:us-east-1:081325390199:image/datascience-1.0"
  },
  "language_info": {
   "codemirror_mode": {
    "name": "ipython",
    "version": 3
   },
   "file_extension": ".py",
   "mimetype": "text/x-python",
   "name": "python",
   "nbconvert_exporter": "python",
   "pygments_lexer": "ipython3",
   "version": "3.7.10"
  }
 },
 "nbformat": 4,
 "nbformat_minor": 4
}
